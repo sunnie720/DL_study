{
  "nbformat": 4,
  "nbformat_minor": 0,
  "metadata": {
    "colab": {
      "name": "CNN_MNIST.ipynb",
      "provenance": [],
      "authorship_tag": "ABX9TyP6BG1k40Ovxfk+pFphKJfB"
    },
    "kernelspec": {
      "name": "python3",
      "display_name": "Python 3"
    },
    "language_info": {
      "name": "python"
    }
  },
  "cells": [
    {
      "cell_type": "markdown",
      "source": [
        "# 합성곱 신경망 1개 적용"
      ],
      "metadata": {
        "id": "o6lRrr--SG44"
      }
    },
    {
      "cell_type": "code",
      "source": [
        "# mnist 데이터셋 종속변수 10개\n",
        "num_classes=10\n",
        "\n",
        "# mnist 데이터셋의 가로세로 길이는 28 (input image dimensions)\n",
        "img_rows, img_cols = 28,28"
      ],
      "metadata": {
        "id": "NnMi2QHQSMh9"
      },
      "execution_count": 9,
      "outputs": []
    },
    {
      "cell_type": "code",
      "source": [
        "from tensorflow import keras\n",
        "from tensorflow.keras.datasets import mnist"
      ],
      "metadata": {
        "id": "NZxvC9QVShhO"
      },
      "execution_count": 3,
      "outputs": []
    },
    {
      "cell_type": "code",
      "source": [
        "(x_train, y_train), (x_test,y_test) = mnist.load_data()"
      ],
      "metadata": {
        "colab": {
          "base_uri": "https://localhost:8080/"
        },
        "id": "zRUPcG9fSr6c",
        "outputId": "31123d8a-93fa-4fac-dc99-e1fad6275a22"
      },
      "execution_count": 4,
      "outputs": [
        {
          "output_type": "stream",
          "name": "stdout",
          "text": [
            "Downloading data from https://storage.googleapis.com/tensorflow/tf-keras-datasets/mnist.npz\n",
            "11493376/11490434 [==============================] - 0s 0us/step\n",
            "11501568/11490434 [==============================] - 0s 0us/step\n"
          ]
        }
      ]
    },
    {
      "cell_type": "code",
      "source": [
        "x_train.shape"
      ],
      "metadata": {
        "colab": {
          "base_uri": "https://localhost:8080/"
        },
        "id": "ah-HEt_uS1jW",
        "outputId": "1496f30f-9dae-4a98-bfd7-44744f1d185b"
      },
      "execution_count": 5,
      "outputs": [
        {
          "output_type": "execute_result",
          "data": {
            "text/plain": [
              "(60000, 28, 28)"
            ]
          },
          "metadata": {},
          "execution_count": 5
        }
      ]
    },
    {
      "cell_type": "code",
      "source": [
        "x_train.shape[0] # 6만장 학습데이터"
      ],
      "metadata": {
        "colab": {
          "base_uri": "https://localhost:8080/"
        },
        "id": "x8MNqR0rS2qs",
        "outputId": "d939de3b-9bb6-4560-cd35-3fa1d0f7b786"
      },
      "execution_count": 6,
      "outputs": [
        {
          "output_type": "execute_result",
          "data": {
            "text/plain": [
              "60000"
            ]
          },
          "metadata": {},
          "execution_count": 6
        }
      ]
    },
    {
      "cell_type": "code",
      "source": [
        "x_train[0].shape # 하나의 이미지는 28x28 (2차원 데이터)"
      ],
      "metadata": {
        "colab": {
          "base_uri": "https://localhost:8080/"
        },
        "id": "lmg9vdQ9S9fm",
        "outputId": "4e59b132-ca46-4086-fe43-b6b7058f1cfe"
      },
      "execution_count": 8,
      "outputs": [
        {
          "output_type": "execute_result",
          "data": {
            "text/plain": [
              "(28, 28)"
            ]
          },
          "metadata": {},
          "execution_count": 8
        }
      ]
    },
    {
      "cell_type": "markdown",
      "source": [
        "2차원 데이터에는 depth(채널)이 생략되어 있음\n",
        "- (28x28) => (28x28x1) 3차원으로 변경해줘야 함 "
      ],
      "metadata": {
        "id": "k3hHvEu9TL8z"
      }
    },
    {
      "cell_type": "code",
      "source": [
        "x_train = x_train.reshape(x_train.shape[0], img_rows, img_cols, 1) # 채널=1\n",
        "x_test = x_test.reshape(x_test.shape[0], img_rows, img_cols, 1)\n",
        "input_shape = (img_rows, img_cols, 1)"
      ],
      "metadata": {
        "id": "NrsfhroNTY-g"
      },
      "execution_count": 10,
      "outputs": []
    },
    {
      "cell_type": "code",
      "source": [
        "print('x_train shape:', x_train.shape)\n",
        "print(x_train.shape[0], 'train samples')\n",
        "print(x_test.shape[0], 'test samples')"
      ],
      "metadata": {
        "colab": {
          "base_uri": "https://localhost:8080/"
        },
        "id": "xm6pX0hNTyTK",
        "outputId": "eaed7fc2-7ab8-4f89-f542-6531b35850bf"
      },
      "execution_count": 12,
      "outputs": [
        {
          "output_type": "stream",
          "name": "stdout",
          "text": [
            "x_train shape: (60000, 28, 28, 1)\n",
            "60000 train samples\n",
            "10000 test samples\n"
          ]
        }
      ]
    },
    {
      "cell_type": "code",
      "source": [
        "x_train[0].shape # 각 이미지는 3차원"
      ],
      "metadata": {
        "colab": {
          "base_uri": "https://localhost:8080/"
        },
        "id": "9_yKHlawUAXD",
        "outputId": "5462cb5f-4342-490c-cbdc-15e7c7b49e25"
      },
      "execution_count": 14,
      "outputs": [
        {
          "output_type": "execute_result",
          "data": {
            "text/plain": [
              "(28, 28, 1)"
            ]
          },
          "metadata": {},
          "execution_count": 14
        }
      ]
    },
    {
      "cell_type": "markdown",
      "source": [
        "독립변수:\n",
        "- 이미지 색상 정보를 0 ~ 1 사이의 값으로 정규화 하기"
      ],
      "metadata": {
        "id": "9LHFdXrkUaeb"
      }
    },
    {
      "cell_type": "code",
      "source": [
        "x_train = x_train.astype('float32')/255\n",
        "x_test= x_test.astype('float32')/255"
      ],
      "metadata": {
        "id": "ovcj-MmnUVvU"
      },
      "execution_count": 15,
      "outputs": []
    },
    {
      "cell_type": "markdown",
      "source": [
        "종속변수:\n",
        "- 0 ~ 9까지의 숫자 손글씨 라벨을 원핫벡터로 변환하기"
      ],
      "metadata": {
        "id": "1uOBPv0nUu_u"
      }
    },
    {
      "cell_type": "code",
      "source": [
        "y_train[0]"
      ],
      "metadata": {
        "colab": {
          "base_uri": "https://localhost:8080/"
        },
        "id": "UiEl56UCUljD",
        "outputId": "e1f1a4ca-b022-4fd9-a127-3950df083c69"
      },
      "execution_count": 17,
      "outputs": [
        {
          "output_type": "execute_result",
          "data": {
            "text/plain": [
              "5"
            ]
          },
          "metadata": {},
          "execution_count": 17
        }
      ]
    },
    {
      "cell_type": "code",
      "source": [
        "from tensorflow.keras.utils import to_categorical\n",
        "y_train_one_hot = to_categorical(y_train)\n",
        "y_test_one_hot = to_categorical(y_test)"
      ],
      "metadata": {
        "id": "UHXbRu40Unl2"
      },
      "execution_count": 18,
      "outputs": []
    },
    {
      "cell_type": "code",
      "source": [
        "print(y_train[0])\n",
        "y_train_one_hot[0]"
      ],
      "metadata": {
        "colab": {
          "base_uri": "https://localhost:8080/"
        },
        "id": "WW2YYmCBVEqp",
        "outputId": "f34afd65-f72c-4a1e-8a92-eec237cd5ce2"
      },
      "execution_count": 19,
      "outputs": [
        {
          "output_type": "stream",
          "name": "stdout",
          "text": [
            "5\n"
          ]
        },
        {
          "output_type": "execute_result",
          "data": {
            "text/plain": [
              "array([0., 0., 0., 0., 0., 1., 0., 0., 0., 0.], dtype=float32)"
            ]
          },
          "metadata": {},
          "execution_count": 19
        }
      ]
    },
    {
      "cell_type": "markdown",
      "source": [
        "합성곱 신경망 쌓기 \n",
        "- ```Conv2D``` 에서의 2D는 필터가 가로와 세로 방향으로 움직인다는 것을 의미함\n",
        "- ```Conv2D(filter 개수, kernel_size=(필터크기 행,열), activation='relu', input_shape=(이미지 한장의 크기(3차원))```\n",
        "- ```strides=(1,1), padding='valid'```는 기본값 \n",
        "- ```padding```은 ['valid'|'same'] 선택 가능 \n",
        "  - 'valid'는 padding 하지 않겠다 (즉, 도출된 activation map 그대로 사용) => activation map 크기: (26,26,1)\n",
        "  - 'same'은 activation map을 입력된 이미지의 크기와 동일하게 변환하여 반환하겠다 => activation map 크기: (28,28,1)"
      ],
      "metadata": {
        "id": "kBDMlDAyVSyD"
      }
    },
    {
      "cell_type": "code",
      "source": [
        "from tensorflow.keras.models import Sequential\n",
        "from tensorflow.keras.layers import Conv2D, MaxPooling2D, Dense, Flatten"
      ],
      "metadata": {
        "id": "60rIMaadVWMe"
      },
      "execution_count": 20,
      "outputs": []
    },
    {
      "cell_type": "code",
      "source": [
        "model_cnn1=Sequential()\n",
        "model_cnn1.add(Conv2D(32, kernel_size=(3,3), # 필터의 depth는 자동적으로 입력 이미지의 depth\n",
        "                      activation='relu', input_shape=input_shape)) \n",
        "                      # strides=(1,1), padding='valid'는 기본값"
      ],
      "metadata": {
        "id": "jKsXJuayVryT"
      },
      "execution_count": 21,
      "outputs": []
    },
    {
      "cell_type": "markdown",
      "source": [
        "2x2 크기의 filter를 사용해서 Max pooling 수행"
      ],
      "metadata": {
        "id": "iOjZoB5qYNgC"
      }
    },
    {
      "cell_type": "code",
      "source": [
        "model_cnn1.add(MaxPooling2D(pool_size=(2,2))) # pooling 필터의 크기\n",
        "# strides의 기본값은 pool_size와 동일한 값으로 설정됨 (이 경우 strides=2)"
      ],
      "metadata": {
        "id": "-ML7OxZPYFeo"
      },
      "execution_count": 22,
      "outputs": []
    },
    {
      "cell_type": "markdown",
      "source": [
        "Flatten: 3차원 형태의 데이터를 1차원 형태로 변경"
      ],
      "metadata": {
        "id": "ThlGt3atYqDe"
      }
    },
    {
      "cell_type": "code",
      "source": [
        "model_cnn1.add(Flatten())"
      ],
      "metadata": {
        "id": "euZzHPsmVOJ0"
      },
      "execution_count": 23,
      "outputs": []
    },
    {
      "cell_type": "markdown",
      "source": [
        "마지막으로 ```Dense``` 클래스로 은닉층 하나 쌓고 출력"
      ],
      "metadata": {
        "id": "dhnzyUfaY5Ak"
      }
    },
    {
      "cell_type": "code",
      "source": [
        "model_cnn1.add(Dense(128, activation='relu')) # 은닉층 노드 수 결정\n",
        "model_cnn1.add(Dense(num_classes, activation='softmax')) # 출력노드(종속변수) 개수\n",
        "\n",
        "model_cnn1.summary()"
      ],
      "metadata": {
        "colab": {
          "base_uri": "https://localhost:8080/"
        },
        "id": "8c1zL4IdYxod",
        "outputId": "58d1ba47-8b59-4fcb-c4d8-50912a0b1a0b"
      },
      "execution_count": 24,
      "outputs": [
        {
          "output_type": "stream",
          "name": "stdout",
          "text": [
            "Model: \"sequential\"\n",
            "_________________________________________________________________\n",
            " Layer (type)                Output Shape              Param #   \n",
            "=================================================================\n",
            " conv2d (Conv2D)             (None, 26, 26, 32)        320       \n",
            "                                                                 \n",
            " max_pooling2d (MaxPooling2D  (None, 13, 13, 32)       0         \n",
            " )                                                               \n",
            "                                                                 \n",
            " flatten (Flatten)           (None, 5408)              0         \n",
            "                                                                 \n",
            " dense (Dense)               (None, 128)               692352    \n",
            "                                                                 \n",
            " dense_1 (Dense)             (None, 10)                1290      \n",
            "                                                                 \n",
            "=================================================================\n",
            "Total params: 693,962\n",
            "Trainable params: 693,962\n",
            "Non-trainable params: 0\n",
            "_________________________________________________________________\n"
          ]
        }
      ]
    },
    {
      "cell_type": "markdown",
      "source": [
        "모델 학습"
      ],
      "metadata": {
        "id": "gEvVmnXWbhQh"
      }
    },
    {
      "cell_type": "code",
      "source": [
        "from tensorflow.keras import optimizers\n",
        "model_cnn1.compile(optimizer=optimizers.RMSprop(learning_rate=0.001),\n",
        "                   loss='categorical_crossentropy',\n",
        "                   metrics=['accuracy'])"
      ],
      "metadata": {
        "id": "-53XfUM-ZI89"
      },
      "execution_count": 26,
      "outputs": []
    },
    {
      "cell_type": "code",
      "source": [
        "h_cnn1=model_cnn1.fit(x_train, y_train_one_hot, epochs=10,\n",
        "                      batch_size=128, validation_split=0.2 )"
      ],
      "metadata": {
        "colab": {
          "base_uri": "https://localhost:8080/"
        },
        "id": "z8OwopZ0TX91",
        "outputId": "5150bdea-7b99-43c8-8b70-c0b2c80f9396"
      },
      "execution_count": 28,
      "outputs": [
        {
          "output_type": "stream",
          "name": "stdout",
          "text": [
            "Epoch 1/10\n",
            "375/375 [==============================] - 26s 68ms/step - loss: 0.2669 - accuracy: 0.9200 - val_loss: 0.0972 - val_accuracy: 0.9737\n",
            "Epoch 2/10\n",
            "375/375 [==============================] - 43s 113ms/step - loss: 0.0803 - accuracy: 0.9761 - val_loss: 0.0735 - val_accuracy: 0.9791\n",
            "Epoch 3/10\n",
            "375/375 [==============================] - 27s 71ms/step - loss: 0.0529 - accuracy: 0.9843 - val_loss: 0.0633 - val_accuracy: 0.9807\n",
            "Epoch 4/10\n",
            "375/375 [==============================] - 23s 63ms/step - loss: 0.0373 - accuracy: 0.9887 - val_loss: 0.0532 - val_accuracy: 0.9848\n",
            "Epoch 5/10\n",
            "375/375 [==============================] - 35s 93ms/step - loss: 0.0282 - accuracy: 0.9919 - val_loss: 0.0559 - val_accuracy: 0.9854\n",
            "Epoch 6/10\n",
            "375/375 [==============================] - 26s 70ms/step - loss: 0.0206 - accuracy: 0.9937 - val_loss: 0.0583 - val_accuracy: 0.9844\n",
            "Epoch 7/10\n",
            "375/375 [==============================] - 24s 63ms/step - loss: 0.0151 - accuracy: 0.9954 - val_loss: 0.0569 - val_accuracy: 0.9864\n",
            "Epoch 8/10\n",
            "375/375 [==============================] - 27s 71ms/step - loss: 0.0121 - accuracy: 0.9962 - val_loss: 0.0568 - val_accuracy: 0.9856\n",
            "Epoch 9/10\n",
            "375/375 [==============================] - 33s 88ms/step - loss: 0.0086 - accuracy: 0.9977 - val_loss: 0.0585 - val_accuracy: 0.9860\n",
            "Epoch 10/10\n",
            "375/375 [==============================] - 30s 79ms/step - loss: 0.0064 - accuracy: 0.9980 - val_loss: 0.0620 - val_accuracy: 0.9855\n"
          ]
        }
      ]
    },
    {
      "cell_type": "code",
      "source": [
        "import matplotlib.pyplot as plt\n",
        "\n",
        "plt.plot(h_cnn1.history['loss'])\n",
        "plt.plot(h_cnn1.history['val_loss'])\n",
        "plt.xlabel('epoch')\n",
        "plt.ylabel('loss')\n",
        "plt.legend(['train','val'])\n",
        "plt.show()"
      ],
      "metadata": {
        "colab": {
          "base_uri": "https://localhost:8080/",
          "height": 279
        },
        "id": "ZenacdUmTFGj",
        "outputId": "4026fd84-a7fa-4004-c261-39ebea5fecf0"
      },
      "execution_count": 29,
      "outputs": [
        {
          "output_type": "display_data",
          "data": {
            "text/plain": [
              "<Figure size 432x288 with 1 Axes>"
            ],
            "image/png": "[encoded data removed]"
          },
          "metadata": {
            "needs_background": "light"
          }
        }
      ]
    },
    {
      "cell_type": "code",
      "source": [
        "plt.plot(h_cnn1.history['accuracy'])\n",
        "plt.plot(h_cnn1.history['val_accuracy'])\n",
        "plt.xlabel('epoch')\n",
        "plt.ylabel('accuracy')\n",
        "plt.legend(['train','val'])\n",
        "plt.show()"
      ],
      "metadata": {
        "colab": {
          "base_uri": "https://localhost:8080/",
          "height": 279
        },
        "id": "Xbj0AqqhbPHv",
        "outputId": "9d215843-4fd9-4b98-e5cd-c741c3385f58"
      },
      "execution_count": 30,
      "outputs": [
        {
          "output_type": "display_data",
          "data": {
            "text/plain": [
              "<Figure size 432x288 with 1 Axes>"
            ],
            "image/png": "[encoded data removed]"
          },
          "metadata": {
            "needs_background": "light"
          }
        }
      ]
    },
    {
      "cell_type": "markdown",
      "source": [
        "모델 평가"
      ],
      "metadata": {
        "id": "KbI7Qc5Kbema"
      }
    },
    {
      "cell_type": "code",
      "source": [
        "test_loss, test_acc = model_cnn1.evaluate(x_test, y_test_one_hot)\n",
        "print('test_acc:', test_acc)"
      ],
      "metadata": {
        "colab": {
          "base_uri": "https://localhost:8080/"
        },
        "id": "yKsHibprSMWB",
        "outputId": "314812e4-1905-4e6e-f71e-d5cc715d6ca1"
      },
      "execution_count": 31,
      "outputs": [
        {
          "output_type": "stream",
          "name": "stdout",
          "text": [
            "313/313 [==============================] - 2s 8ms/step - loss: 0.0532 - accuracy: 0.9862\n",
            "test_acc: 0.9861999750137329\n"
          ]
        }
      ]
    },
    {
      "cell_type": "code",
      "source": [
        "x_test[0].shape"
      ],
      "metadata": {
        "colab": {
          "base_uri": "https://localhost:8080/"
        },
        "id": "3clE3AracIXz",
        "outputId": "88b1f664-cad2-4a12-8b34-91bfe8bb99a9"
      },
      "execution_count": 36,
      "outputs": [
        {
          "output_type": "execute_result",
          "data": {
            "text/plain": [
              "(28, 28, 1)"
            ]
          },
          "metadata": {},
          "execution_count": 36
        }
      ]
    },
    {
      "cell_type": "code",
      "source": [
        "plt.imshow(x_test[0].reshape(28,28), cmap='gray')\n",
        "plt.show()"
      ],
      "metadata": {
        "colab": {
          "base_uri": "https://localhost:8080/",
          "height": 265
        },
        "id": "Ds3q4BPubwlt",
        "outputId": "8b0d3b7f-36d5-4d75-c406-fa9160f52ba3"
      },
      "execution_count": 37,
      "outputs": [
        {
          "output_type": "display_data",
          "data": {
            "text/plain": [
              "<Figure size 432x288 with 1 Axes>"
            ],
            "image/png": "[encoded data removed]"
          },
          "metadata": {
            "needs_background": "light"
          }
        }
      ]
    },
    {
      "cell_type": "code",
      "source": [
        "import numpy as np\n",
        "np.set_printoptions(suppress=True, precision=10)\n",
        "prediction=model_cnn1.predict(x_test[0:1]) # test data 첫번째 이미지 \n",
        "prediction"
      ],
      "metadata": {
        "colab": {
          "base_uri": "https://localhost:8080/"
        },
        "id": "4EnRT-LAb6ts",
        "outputId": "3b06130c-54b4-4e6c-ee4b-2fc3485a5d23"
      },
      "execution_count": 39,
      "outputs": [
        {
          "output_type": "execute_result",
          "data": {
            "text/plain": [
              "array([[0.          , 0.0000000001, 0.0000000006, 0.0000000056,\n",
              "        0.          , 0.          , 0.          , 1.          ,\n",
              "        0.0000000001, 0.000000001 ]], dtype=float32)"
            ]
          },
          "metadata": {},
          "execution_count": 39
        }
      ]
    },
    {
      "cell_type": "code",
      "source": [
        "y_test[0]"
      ],
      "metadata": {
        "colab": {
          "base_uri": "https://localhost:8080/"
        },
        "id": "ncbz_hXycwyG",
        "outputId": "3419f958-b2d3-49a3-f8f0-3ec301969062"
      },
      "execution_count": 40,
      "outputs": [
        {
          "output_type": "execute_result",
          "data": {
            "text/plain": [
              "7"
            ]
          },
          "metadata": {},
          "execution_count": 40
        }
      ]
    },
    {
      "cell_type": "code",
      "source": [
        "labels = list(range(10))\n",
        "print(labels[np.argmax(prediction)])"
      ],
      "metadata": {
        "colab": {
          "base_uri": "https://localhost:8080/"
        },
        "id": "e6NV-nOIcyqV",
        "outputId": "5e35c834-7c55-4c0f-94d5-49af5136849d"
      },
      "execution_count": 41,
      "outputs": [
        {
          "output_type": "stream",
          "name": "stdout",
          "text": [
            "7\n"
          ]
        }
      ]
    },
    {
      "cell_type": "markdown",
      "source": [
        "# 합성곱 신경망 2개 적용"
      ],
      "metadata": {
        "id": "BdfPqsOySKIF"
      }
    },
    {
      "cell_type": "markdown",
      "source": [
        "신경망 쌓기"
      ],
      "metadata": {
        "id": "WUO-aHa5dLz2"
      }
    },
    {
      "cell_type": "code",
      "source": [
        "model_cnn2=Sequential()\n",
        "model_cnn2.add(Conv2D(32, (3,3), # 필터의 depth는 자동적으로 입력 이미지의 depth\n",
        "                      activation='relu', input_shape=input_shape))\n",
        "model_cnn2.add(MaxPooling2D(pool_size=(2,2)))\n",
        "model_cnn2.add(Conv2D(64, (5,5), activation='relu', padding='same'))\n",
        "model_cnn2.add(MaxPooling2D((2,2))) # AveragePooling2D도 가능"
      ],
      "metadata": {
        "id": "O4gbjQxHSM-F"
      },
      "execution_count": 43,
      "outputs": []
    },
    {
      "cell_type": "code",
      "source": [
        "model_cnn2.add(Flatten())\n",
        "model_cnn2.add(Dense(64, activation='relu')) # 은닉층 노드 수 64개\n",
        "model_cnn2.add(Dense(10, activation='softmax')) # 종속변수 10개\n",
        "\n",
        "model_cnn2.summary()"
      ],
      "metadata": {
        "colab": {
          "base_uri": "https://localhost:8080/"
        },
        "id": "1eNOY740d9DZ",
        "outputId": "ba239052-cf88-469d-df7b-2f510f454b47"
      },
      "execution_count": 44,
      "outputs": [
        {
          "output_type": "stream",
          "name": "stdout",
          "text": [
            "Model: \"sequential_2\"\n",
            "_________________________________________________________________\n",
            " Layer (type)                Output Shape              Param #   \n",
            "=================================================================\n",
            " conv2d_2 (Conv2D)           (None, 26, 26, 32)        320       \n",
            "                                                                 \n",
            " max_pooling2d_2 (MaxPooling  (None, 13, 13, 32)       0         \n",
            " 2D)                                                             \n",
            "                                                                 \n",
            " conv2d_3 (Conv2D)           (None, 13, 13, 64)        51264     \n",
            "                                                                 \n",
            " max_pooling2d_3 (MaxPooling  (None, 6, 6, 64)         0         \n",
            " 2D)                                                             \n",
            "                                                                 \n",
            " flatten_1 (Flatten)         (None, 2304)              0         \n",
            "                                                                 \n",
            " dense_2 (Dense)             (None, 64)                147520    \n",
            "                                                                 \n",
            " dense_3 (Dense)             (None, 10)                650       \n",
            "                                                                 \n",
            "=================================================================\n",
            "Total params: 199,754\n",
            "Trainable params: 199,754\n",
            "Non-trainable params: 0\n",
            "_________________________________________________________________\n"
          ]
        }
      ]
    },
    {
      "cell_type": "markdown",
      "source": [
        "모델 학습 "
      ],
      "metadata": {
        "id": "ICO4NLR_fDvt"
      }
    },
    {
      "cell_type": "code",
      "source": [
        "from tensorflow.keras import optimizers\n",
        "model_cnn2.compile(optimizer=optimizers.RMSprop(learning_rate=0.001),\n",
        "                   loss='categorical_crossentropy',\n",
        "                   metrics=['accuracy'])"
      ],
      "metadata": {
        "id": "_ShdmMqSfEVg"
      },
      "execution_count": 45,
      "outputs": []
    },
    {
      "cell_type": "code",
      "source": [
        "h_cnn2=model_cnn2.fit(x_train, y_train_one_hot, epochs=5,\n",
        "                      batch_size=64, validation_split=0.2 )"
      ],
      "metadata": {
        "colab": {
          "base_uri": "https://localhost:8080/"
        },
        "id": "_DGtTLbVfLjj",
        "outputId": "3531fb83-5fc1-4b70-eeac-e9a248c458fe"
      },
      "execution_count": 46,
      "outputs": [
        {
          "output_type": "stream",
          "name": "stdout",
          "text": [
            "Epoch 1/5\n",
            "750/750 [==============================] - 106s 140ms/step - loss: 0.1627 - accuracy: 0.9497 - val_loss: 0.0525 - val_accuracy: 0.9849\n",
            "Epoch 2/5\n",
            "750/750 [==============================] - 101s 134ms/step - loss: 0.0443 - accuracy: 0.9861 - val_loss: 0.0380 - val_accuracy: 0.9887\n",
            "Epoch 3/5\n",
            "750/750 [==============================] - 98s 130ms/step - loss: 0.0302 - accuracy: 0.9906 - val_loss: 0.0383 - val_accuracy: 0.9884\n",
            "Epoch 4/5\n",
            "750/750 [==============================] - 98s 131ms/step - loss: 0.0217 - accuracy: 0.9930 - val_loss: 0.0369 - val_accuracy: 0.9894\n",
            "Epoch 5/5\n",
            "750/750 [==============================] - 101s 134ms/step - loss: 0.0146 - accuracy: 0.9957 - val_loss: 0.0414 - val_accuracy: 0.9886\n"
          ]
        }
      ]
    },
    {
      "cell_type": "code",
      "source": [
        "plt.plot(h_cnn2.history['loss'])\n",
        "plt.plot(h_cnn2.history['val_loss'])\n",
        "plt.xlabel('epoch')\n",
        "plt.ylabel('loss')\n",
        "plt.legend(['train','val'])\n",
        "plt.show()"
      ],
      "metadata": {
        "colab": {
          "base_uri": "https://localhost:8080/",
          "height": 279
        },
        "id": "98fhDaDMfeVq",
        "outputId": "32c2f4dd-5df6-4647-8ecd-1770b659a297"
      },
      "execution_count": 47,
      "outputs": [
        {
          "output_type": "display_data",
          "data": {
            "text/plain": [
              "<Figure size 432x288 with 1 Axes>"
            ],
            "image/png": "[encoded data removed]"
          },
          "metadata": {
            "needs_background": "light"
          }
        }
      ]
    },
    {
      "cell_type": "code",
      "source": [
        "plt.plot(h_cnn2.history['accuracy'])\n",
        "plt.plot(h_cnn2.history['val_accuracy'])\n",
        "plt.xlabel('epoch')\n",
        "plt.ylabel('accuracy')\n",
        "plt.legend(['train','val'])\n",
        "plt.show()"
      ],
      "metadata": {
        "colab": {
          "base_uri": "https://localhost:8080/",
          "height": 279
        },
        "id": "noB90SdpfeKU",
        "outputId": "2b9a0874-9d47-450f-f489-b08671cfd3e8"
      },
      "execution_count": 48,
      "outputs": [
        {
          "output_type": "display_data",
          "data": {
            "text/plain": [
              "<Figure size 432x288 with 1 Axes>"
            ],
            "image/png": "[encoded data removed]"
          },
          "metadata": {
            "needs_background": "light"
          }
        }
      ]
    },
    {
      "cell_type": "markdown",
      "source": [
        "모델 평가"
      ],
      "metadata": {
        "id": "o89I52atfVTy"
      }
    },
    {
      "cell_type": "code",
      "source": [
        "test_loss, test_acc = model_cnn2.evaluate(x_test, y_test_one_hot)\n",
        "print('test_acc:', test_acc)"
      ],
      "metadata": {
        "colab": {
          "base_uri": "https://localhost:8080/"
        },
        "id": "PSyiEEBvfSmv",
        "outputId": "f6eca390-da69-43a4-9fd4-223d10df18c0"
      },
      "execution_count": 49,
      "outputs": [
        {
          "output_type": "stream",
          "name": "stdout",
          "text": [
            "313/313 [==============================] - 6s 19ms/step - loss: 0.0317 - accuracy: 0.9907\n",
            "test_acc: 0.9907000064849854\n"
          ]
        }
      ]
    },
    {
      "cell_type": "code",
      "source": [
        ""
      ],
      "metadata": {
        "id": "yYDjndcKSM3K"
      },
      "execution_count": null,
      "outputs": []
    }
  ]
}