{
  "nbformat": 4,
  "nbformat_minor": 0,
  "metadata": {
    "colab": {
      "name": "CNN_cifar10_simple.ipynb",
      "provenance": [],
      "authorship_tag": "ABX9TyNe0PLdzvqfKg8BoOqRlnfv"
    },
    "kernelspec": {
      "name": "python3",
      "display_name": "Python 3"
    },
    "language_info": {
      "name": "python"
    },
    "accelerator": "GPU",
    "gpuClass": "standard"
  },
  "cells": [
    {
      "cell_type": "markdown",
      "source": [
        "# CIFAR-10 데이터셋 설명\n",
        "- 60000개의 칼라 사진 (32x32x3)\n",
        "- 종속변수 10개 \n",
        "  - 각 class 별로 6000개 이미지\n",
        "  - airplane, automobile, bird, cat, deer, dog, frog, horse, ship, truck "
      ],
      "metadata": {
        "id": "atDq0RP-gHTZ"
      }
    },
    {
      "cell_type": "markdown",
      "source": [
        "합성곱 신경망 쌓기 - 함수 "
      ],
      "metadata": {
        "id": "MsmoSOvHglSa"
      }
    },
    {
      "cell_type": "code",
      "source": [
        "import tensorflow as tf\n",
        "from tensorflow import keras\n",
        "from tensorflow.keras.utils import to_categorical\n",
        "from tensorflow.keras.models import Sequential\n",
        "from tensorflow.keras.layers import Conv2D, MaxPooling2D, Dense, Flatten, Dropout\n",
        "from tensorflow.keras import optimizers"
      ],
      "metadata": {
        "id": "qmPQkGRYghgI"
      },
      "execution_count": 2,
      "outputs": []
    },
    {
      "cell_type": "code",
      "source": [
        "def build(input_shape, classes):\n",
        "  model=Sequential()\n",
        "  model.add(Conv2D(32, (3,3), activation='relu',\n",
        "                          input_shape=input_shape))\n",
        "  model.add(MaxPooling2D(pool_size=(2,2)))\n",
        "  model.add(Dropout(0.25))\n",
        "\n",
        "  model.add(Flatten())\n",
        "  model.add(Dense(512, activation='relu'))\n",
        "  model.add(Dropout(0.5))\n",
        "  model.add(Dense(classes, activation='softmax'))\n",
        "  return model"
      ],
      "metadata": {
        "id": "M3C1sQMDgrdq"
      },
      "execution_count": 3,
      "outputs": []
    },
    {
      "cell_type": "code",
      "source": [
        "(X_train, y_train), (X_test, y_test) = keras.datasets.cifar10.load_data()"
      ],
      "metadata": {
        "colab": {
          "base_uri": "https://localhost:8080/"
        },
        "id": "ZW_wzvNJDG_Y",
        "outputId": "8639c73d-37d1-4bc0-c44f-d7bd6ce46063"
      },
      "execution_count": 4,
      "outputs": [
        {
          "output_type": "stream",
          "name": "stdout",
          "text": [
            "Downloading data from https://www.cs.toronto.edu/~kriz/cifar-10-python.tar.gz\n",
            "170500096/170498071 [==============================] - 2s 0us/step\n",
            "170508288/170498071 [==============================] - 2s 0us/step\n"
          ]
        }
      ]
    },
    {
      "cell_type": "markdown",
      "source": [
        "독립변수(색상정보) 정규화 및\n",
        "종속변수 원핫 인코딩"
      ],
      "metadata": {
        "id": "ORigXDzeDhuT"
      }
    },
    {
      "cell_type": "code",
      "source": [
        "X_train, X_test = X_train/255.0, X_test/255.0\n",
        "y_train = tf.keras.utils.to_categorical(y_train)\n",
        "y_test = tf.keras.utils.to_categorical(y_test)"
      ],
      "metadata": {
        "id": "KWg5j0dWDnw-"
      },
      "execution_count": 5,
      "outputs": []
    },
    {
      "cell_type": "code",
      "source": [
        "X_train.shape # 학습데이터 5만장 "
      ],
      "metadata": {
        "colab": {
          "base_uri": "https://localhost:8080/"
        },
        "id": "w22qxadsEEt6",
        "outputId": "d1fbd82b-d2bb-43af-b4a5-64eacdad1e0f"
      },
      "execution_count": 6,
      "outputs": [
        {
          "output_type": "execute_result",
          "data": {
            "text/plain": [
              "(50000, 32, 32, 3)"
            ]
          },
          "metadata": {},
          "execution_count": 6
        }
      ]
    },
    {
      "cell_type": "code",
      "source": [
        "X_test.shape # 평가데이터 1만장"
      ],
      "metadata": {
        "colab": {
          "base_uri": "https://localhost:8080/"
        },
        "id": "5A3WIgNlENVw",
        "outputId": "661ea0f3-9384-4dd7-f56f-b934ffe3975e"
      },
      "execution_count": 7,
      "outputs": [
        {
          "output_type": "execute_result",
          "data": {
            "text/plain": [
              "(10000, 32, 32, 3)"
            ]
          },
          "metadata": {},
          "execution_count": 7
        }
      ]
    },
    {
      "cell_type": "code",
      "source": [
        "import matplotlib.pyplot as plt\n",
        "plt.imshow(X_train[0])"
      ],
      "metadata": {
        "colab": {
          "base_uri": "https://localhost:8080/",
          "height": 284
        },
        "id": "zNxZU-GFEGm5",
        "outputId": "35afaab3-e362-4eab-a5c3-7b669ff8a606"
      },
      "execution_count": 8,
      "outputs": [
        {
          "output_type": "execute_result",
          "data": {
            "text/plain": [
              "<matplotlib.image.AxesImage at 0x7f156d51cf90>"
            ]
          },
          "metadata": {},
          "execution_count": 8
        },
        {
          "output_type": "display_data",
          "data": {
            "text/plain": [
              "<Figure size 432x288 with 1 Axes>"
            ],
            "image/png": "[encoded data removed]"
          },
          "metadata": {
            "needs_background": "light"
          }
        }
      ]
    },
    {
      "cell_type": "code",
      "source": [
        "model=build((32,32,3), 10) # 3차원 이미지 shape, 클래스 개수\n",
        "model.summary()"
      ],
      "metadata": {
        "colab": {
          "base_uri": "https://localhost:8080/"
        },
        "id": "_5NkuLEREKKK",
        "outputId": "336110cf-daed-407f-bcab-fd4823a8bf74"
      },
      "execution_count": 9,
      "outputs": [
        {
          "output_type": "stream",
          "name": "stdout",
          "text": [
            "Model: \"sequential\"\n",
            "_________________________________________________________________\n",
            " Layer (type)                Output Shape              Param #   \n",
            "=================================================================\n",
            " conv2d (Conv2D)             (None, 30, 30, 32)        896       \n",
            "                                                                 \n",
            " max_pooling2d (MaxPooling2D  (None, 15, 15, 32)       0         \n",
            " )                                                               \n",
            "                                                                 \n",
            " dropout (Dropout)           (None, 15, 15, 32)        0         \n",
            "                                                                 \n",
            " flatten (Flatten)           (None, 7200)              0         \n",
            "                                                                 \n",
            " dense (Dense)               (None, 512)               3686912   \n",
            "                                                                 \n",
            " dropout_1 (Dropout)         (None, 512)               0         \n",
            "                                                                 \n",
            " dense_1 (Dense)             (None, 10)                5130      \n",
            "                                                                 \n",
            "=================================================================\n",
            "Total params: 3,692,938\n",
            "Trainable params: 3,692,938\n",
            "Non-trainable params: 0\n",
            "_________________________________________________________________\n"
          ]
        }
      ]
    },
    {
      "cell_type": "code",
      "source": [
        "model.compile(loss='categorical_crossentropy', optimizer=tf.keras.optimizers.RMSprop(), metrics=['accuracy'])\n",
        "history=model.fit(X_train, y_train, batch_size=128, epochs=10, validation_split=0.2)"
      ],
      "metadata": {
        "colab": {
          "base_uri": "https://localhost:8080/"
        },
        "id": "JDFXkkVQEuNN",
        "outputId": "cb6b12a6-176f-4ab8-b1e6-431cd22bd319"
      },
      "execution_count": 25,
      "outputs": [
        {
          "output_type": "stream",
          "name": "stdout",
          "text": [
            "Epoch 1/10\n",
            "313/313 [==============================] - 3s 9ms/step - loss: 0.8034 - accuracy: 0.7212 - val_loss: 1.0686 - val_accuracy: 0.6439\n",
            "Epoch 2/10\n",
            "313/313 [==============================] - 2s 8ms/step - loss: 0.7592 - accuracy: 0.7372 - val_loss: 1.0421 - val_accuracy: 0.6506\n",
            "Epoch 3/10\n",
            "313/313 [==============================] - 3s 8ms/step - loss: 0.7224 - accuracy: 0.7494 - val_loss: 1.0589 - val_accuracy: 0.6538\n",
            "Epoch 4/10\n",
            "313/313 [==============================] - 3s 10ms/step - loss: 0.6972 - accuracy: 0.7566 - val_loss: 0.9928 - val_accuracy: 0.6783\n",
            "Epoch 5/10\n",
            "313/313 [==============================] - 2s 8ms/step - loss: 0.6624 - accuracy: 0.7732 - val_loss: 1.0751 - val_accuracy: 0.6646\n",
            "Epoch 6/10\n",
            "313/313 [==============================] - 2s 8ms/step - loss: 0.6412 - accuracy: 0.7805 - val_loss: 1.0786 - val_accuracy: 0.6685\n",
            "Epoch 7/10\n",
            "313/313 [==============================] - 2s 8ms/step - loss: 0.6107 - accuracy: 0.7911 - val_loss: 1.0331 - val_accuracy: 0.6651\n",
            "Epoch 8/10\n",
            "313/313 [==============================] - 2s 8ms/step - loss: 0.5956 - accuracy: 0.7970 - val_loss: 1.0353 - val_accuracy: 0.6805\n",
            "Epoch 9/10\n",
            "313/313 [==============================] - 2s 8ms/step - loss: 0.5707 - accuracy: 0.8073 - val_loss: 1.0518 - val_accuracy: 0.6844\n",
            "Epoch 10/10\n",
            "313/313 [==============================] - 2s 7ms/step - loss: 0.5509 - accuracy: 0.8112 - val_loss: 1.0566 - val_accuracy: 0.6786\n"
          ]
        }
      ]
    },
    {
      "cell_type": "code",
      "source": [
        "history.history.keys()"
      ],
      "metadata": {
        "colab": {
          "base_uri": "https://localhost:8080/"
        },
        "id": "MyRYb2UIGlbq",
        "outputId": "1121e31c-9fff-4ab5-d66e-9f86f0fc8694"
      },
      "execution_count": 26,
      "outputs": [
        {
          "output_type": "execute_result",
          "data": {
            "text/plain": [
              "dict_keys(['loss', 'accuracy', 'val_loss', 'val_accuracy'])"
            ]
          },
          "metadata": {},
          "execution_count": 26
        }
      ]
    },
    {
      "cell_type": "code",
      "source": [
        "plt.plot(history.history['loss'])\n",
        "plt.plot(history.history['val_loss'])\n",
        "plt.xlabel('epoch')\n",
        "plt.ylabel('loss')\n",
        "plt.legend(['train','val'])\n",
        "plt.show()"
      ],
      "metadata": {
        "colab": {
          "base_uri": "https://localhost:8080/",
          "height": 281
        },
        "id": "hgnw8QREFwfV",
        "outputId": "8f8acc98-c398-4369-9fb4-040c74676f3c"
      },
      "execution_count": 27,
      "outputs": [
        {
          "output_type": "display_data",
          "data": {
            "text/plain": [
              "<Figure size 432x288 with 1 Axes>"
            ],
            "image/png": "[encoded data removed]"
          },
          "metadata": {
            "needs_background": "light"
          }
        }
      ]
    },
    {
      "cell_type": "code",
      "source": [
        "plt.plot(history.history['accuracy'])\n",
        "plt.plot(history.history['val_accuracy'])\n",
        "plt.xlabel('epoch')\n",
        "plt.ylabel('accuracy')\n",
        "plt.legend(['train','val'])\n",
        "plt.show()"
      ],
      "metadata": {
        "colab": {
          "base_uri": "https://localhost:8080/",
          "height": 279
        },
        "id": "Z5EcjOVzI1qc",
        "outputId": "97671bf7-d1f2-47ae-b90f-522242e5f42c"
      },
      "execution_count": 28,
      "outputs": [
        {
          "output_type": "display_data",
          "data": {
            "text/plain": [
              "<Figure size 432x288 with 1 Axes>"
            ],
            "image/png": "[encoded data removed]"
          },
          "metadata": {
            "needs_background": "light"
          }
        }
      ]
    },
    {
      "cell_type": "code",
      "source": [
        "score=model.evaluate(X_test, y_test)\n",
        "print('\\nTest loss:', score[0])\n",
        "print('Test accuracy:', score[1])"
      ],
      "metadata": {
        "colab": {
          "base_uri": "https://localhost:8080/"
        },
        "id": "zyiGkCAQGIt9",
        "outputId": "517167d6-f767-4481-ea50-7945fdc6dd3f"
      },
      "execution_count": 29,
      "outputs": [
        {
          "output_type": "stream",
          "name": "stdout",
          "text": [
            "313/313 [==============================] - 1s 4ms/step - loss: 1.0687 - accuracy: 0.6715\n",
            "\n",
            "Test loss: 1.0686806440353394\n",
            "Test accuracy: 0.671500027179718\n"
          ]
        }
      ]
    },
    {
      "cell_type": "code",
      "source": [
        "plt.imshow(X_test[1])\n",
        "plt.show()"
      ],
      "metadata": {
        "colab": {
          "base_uri": "https://localhost:8080/",
          "height": 266
        },
        "id": "yuTeOji-HHLV",
        "outputId": "7f03ed4d-8cab-4c01-a90a-12930e00b565"
      },
      "execution_count": 30,
      "outputs": [
        {
          "output_type": "display_data",
          "data": {
            "text/plain": [
              "<Figure size 432x288 with 1 Axes>"
            ],
            "image/png": "[encoded data removed]"
          },
          "metadata": {
            "needs_background": "light"
          }
        }
      ]
    },
    {
      "cell_type": "code",
      "source": [
        "import numpy as np\n",
        "np.set_printoptions(suppress=True, precision=10)\n",
        "model.predict(X_test[1:2]) # 8번째 인덱스(ship)로 예측됨"
      ],
      "metadata": {
        "colab": {
          "base_uri": "https://localhost:8080/"
        },
        "id": "UQujLwOaJG5W",
        "outputId": "6db9b9d8-bdf5-4e93-c4ad-8d8ed7554ad6"
      },
      "execution_count": 32,
      "outputs": [
        {
          "output_type": "execute_result",
          "data": {
            "text/plain": [
              "array([[0.005821488 , 0.23872732  , 0.0000000041, 0.0000000011,\n",
              "        0.0000000001, 0.          , 0.0000000001, 0.          ,\n",
              "        0.7535908   , 0.001860356 ]], dtype=float32)"
            ]
          },
          "metadata": {},
          "execution_count": 32
        }
      ]
    }
  ]
}