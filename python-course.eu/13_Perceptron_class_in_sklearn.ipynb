{
  "nbformat": 4,
  "nbformat_minor": 0,
  "metadata": {
    "colab": {
      "provenance": [],
      "authorship_tag": "ABX9TyMSBduhbPXDlOYsKBmoHbVI"
    },
    "kernelspec": {
      "name": "python3",
      "display_name": "Python 3"
    },
    "language_info": {
      "name": "python"
    }
  },
  "cells": [
    {
      "cell_type": "markdown",
      "source": [
        "# Perceptron class in sklearn"
      ],
      "metadata": {
        "id": "2Wxyyzw4ktuL"
      }
    },
    {
      "cell_type": "markdown",
      "source": [
        "# 1. Introduction \n",
        "- 앞서 만든 Perceptron 클래스가 ```sklearn``` 모듈에서 ```Perceptron``` 클래스로 제공됨\n",
        "- Perceptron : 이진분류를 위한 알고리즘\n",
        "- Perceptron 알고리즘은 이미 1958년 Frank Rosenblatt에 의해 고안됨"
      ],
      "metadata": {
        "id": "ulJmMq8Yky1k"
      }
    },
    {
      "cell_type": "markdown",
      "source": [
        "# 2. Example: Perceptron Class \n",
        "- ```sklearn```의 ```Perceptron``` 클래스 사용 예제 "
      ],
      "metadata": {
        "id": "-1b4GawMlj7H"
      }
    },
    {
      "cell_type": "code",
      "source": [
        "import matplotlib.pyplot as plt\n",
        "from sklearn.datasets import make_blobs\n",
        "\n",
        "# 샘플 데이터 및 2개 군집 생성\n",
        "n_samples = 500\n",
        "data, labels = make_blobs(n_samples=n_samples, \n",
        "                             centers=([1.1, 3], [4.5, 6.9]), \n",
        "                             cluster_std=1.3,\n",
        "                             random_state=0)\n",
        "# 군집 시각화\n",
        "colours = ('green', 'orange')\n",
        "fig, ax = plt.subplots()\n",
        "for n_class in range(2):\n",
        "    ax.scatter(data[labels==n_class][:, 0], \n",
        "               data[labels==n_class][:, 1], \n",
        "               c=colours[n_class], \n",
        "               s=50, \n",
        "               label=str(n_class))"
      ],
      "metadata": {
        "colab": {
          "base_uri": "https://localhost:8080/",
          "height": 265
        },
        "id": "Jtdp11z1lt-D",
        "outputId": "adefbb61-e314-4f40-8e82-3148b1c3d659"
      },
      "execution_count": 3,
      "outputs": [
        {
          "output_type": "display_data",
          "data": {
            "text/plain": [
              "<Figure size 432x288 with 1 Axes>"
            ],
            "image/png": "[encoded data removed]"
          },
          "metadata": {
            "needs_background": "light"
          }
        }
      ]
    },
    {
      "cell_type": "code",
      "source": [
        "# 학습/테스트 데이터 분리 후 퍼셉트론 모델 적용\n",
        "from sklearn.model_selection import train_test_split\n",
        "from sklearn.linear_model import Perceptron\n",
        "\n",
        "# 데이터 분리\n",
        "datasets = train_test_split(data, \n",
        "                            labels,\n",
        "                            test_size=0.2)\n",
        "\n",
        "train_data, test_data, train_labels, test_labels = datasets\n",
        "\n",
        "# 퍼셉트론 객체 생성 및 모델 학습\n",
        "p = Perceptron(random_state=42)\n",
        "p.fit(train_data, train_labels)"
      ],
      "metadata": {
        "colab": {
          "base_uri": "https://localhost:8080/"
        },
        "id": "vJv-X7z-lxm6",
        "outputId": "68626ab4-d2ba-4379-b365-93dad1bd1a12"
      },
      "execution_count": 4,
      "outputs": [
        {
          "output_type": "execute_result",
          "data": {
            "text/plain": [
              "Perceptron(random_state=42)"
            ]
          },
          "metadata": {},
          "execution_count": 4
        }
      ]
    },
    {
      "cell_type": "code",
      "source": [
        "# 모델 정확도 확인 \n",
        "from sklearn.metrics import accuracy_score\n",
        "\n",
        "predictions_train = p.predict(train_data)\n",
        "predictions_test = p.predict(test_data)\n",
        "train_score = accuracy_score(predictions_train, train_labels)\n",
        "print(\"학습데이터 점수: \", train_score)\n",
        "test_score = accuracy_score(predictions_test, test_labels)\n",
        "print(\"테스트데이터 점수: \", test_score)"
      ],
      "metadata": {
        "colab": {
          "base_uri": "https://localhost:8080/"
        },
        "id": "bGeTTlGRmWLT",
        "outputId": "c0dcb827-22d7-4790-e6e0-9646c7fbda54"
      },
      "execution_count": 5,
      "outputs": [
        {
          "output_type": "stream",
          "name": "stdout",
          "text": [
            "학습데이터 점수:  0.9675\n",
            "테스트데이터 점수:  0.94\n"
          ]
        }
      ]
    },
    {
      "cell_type": "code",
      "source": [
        "p.score(train_data, train_labels)"
      ],
      "metadata": {
        "colab": {
          "base_uri": "https://localhost:8080/"
        },
        "id": "tNoN89BCmeBx",
        "outputId": "00c94c1f-0cd5-4031-a1a6-b6241f3044e4"
      },
      "execution_count": 6,
      "outputs": [
        {
          "output_type": "execute_result",
          "data": {
            "text/plain": [
              "0.9675"
            ]
          },
          "metadata": {},
          "execution_count": 6
        }
      ]
    },
    {
      "cell_type": "markdown",
      "source": [
        "# 3. Classifying the Iris Data with Perceptron Classifier "
      ],
      "metadata": {
        "id": "wId-8tfPmrmt"
      }
    },
    {
      "cell_type": "code",
      "source": [
        "import numpy as np\n",
        "from sklearn.datasets import load_iris\n",
        "\n",
        "# iris 데이터 불러오기\n",
        "iris = load_iris()"
      ],
      "metadata": {
        "id": "w3iXFhrpmwoM"
      },
      "execution_count": 7,
      "outputs": []
    },
    {
      "cell_type": "markdown",
      "source": [
        "- Perceptron은 이진분류 모델인데 iris 타깃 라벨은 ['setosa', 'versicolor', 'virginica'] 3종류이므로 'versicolor', 'virginica'를 하나로 합쳐서 binary 변수로 변환 "
      ],
      "metadata": {
        "id": "n8x3Cd29m7Co"
      }
    },
    {
      "cell_type": "code",
      "source": [
        "iris.target_names"
      ],
      "metadata": {
        "colab": {
          "base_uri": "https://localhost:8080/"
        },
        "id": "1pIZmGzinQ_R",
        "outputId": "07948d29-6b2d-4d5a-a67f-f68d9b93e8cf"
      },
      "execution_count": 8,
      "outputs": [
        {
          "output_type": "execute_result",
          "data": {
            "text/plain": [
              "array(['setosa', 'versicolor', 'virginica'], dtype='<U10')"
            ]
          },
          "metadata": {},
          "execution_count": 8
        }
      ]
    },
    {
      "cell_type": "code",
      "source": [
        "iris.target"
      ],
      "metadata": {
        "colab": {
          "base_uri": "https://localhost:8080/"
        },
        "id": "wUxpqJ01nR_d",
        "outputId": "3bb7b885-23c7-49ef-8053-aac2d83ec489"
      },
      "execution_count": 9,
      "outputs": [
        {
          "output_type": "execute_result",
          "data": {
            "text/plain": [
              "array([0, 0, 0, 0, 0, 0, 0, 0, 0, 0, 0, 0, 0, 0, 0, 0, 0, 0, 0, 0, 0, 0,\n",
              "       0, 0, 0, 0, 0, 0, 0, 0, 0, 0, 0, 0, 0, 0, 0, 0, 0, 0, 0, 0, 0, 0,\n",
              "       0, 0, 0, 0, 0, 0, 1, 1, 1, 1, 1, 1, 1, 1, 1, 1, 1, 1, 1, 1, 1, 1,\n",
              "       1, 1, 1, 1, 1, 1, 1, 1, 1, 1, 1, 1, 1, 1, 1, 1, 1, 1, 1, 1, 1, 1,\n",
              "       1, 1, 1, 1, 1, 1, 1, 1, 1, 1, 1, 1, 2, 2, 2, 2, 2, 2, 2, 2, 2, 2,\n",
              "       2, 2, 2, 2, 2, 2, 2, 2, 2, 2, 2, 2, 2, 2, 2, 2, 2, 2, 2, 2, 2, 2,\n",
              "       2, 2, 2, 2, 2, 2, 2, 2, 2, 2, 2, 2, 2, 2, 2, 2, 2, 2])"
            ]
          },
          "metadata": {},
          "execution_count": 9
        }
      ]
    },
    {
      "cell_type": "code",
      "source": [
        "targets = (iris.target==0).astype(np.int8)\n",
        "print(targets)"
      ],
      "metadata": {
        "colab": {
          "base_uri": "https://localhost:8080/"
        },
        "id": "WEtREdxYm6Qq",
        "outputId": "fb27b525-59dc-4468-9a3a-31ae3d975e5e"
      },
      "execution_count": 10,
      "outputs": [
        {
          "output_type": "stream",
          "name": "stdout",
          "text": [
            "[1 1 1 1 1 1 1 1 1 1 1 1 1 1 1 1 1 1 1 1 1 1 1 1 1 1 1 1 1 1 1 1 1 1 1 1 1\n",
            " 1 1 1 1 1 1 1 1 1 1 1 1 1 0 0 0 0 0 0 0 0 0 0 0 0 0 0 0 0 0 0 0 0 0 0 0 0\n",
            " 0 0 0 0 0 0 0 0 0 0 0 0 0 0 0 0 0 0 0 0 0 0 0 0 0 0 0 0 0 0 0 0 0 0 0 0 0\n",
            " 0 0 0 0 0 0 0 0 0 0 0 0 0 0 0 0 0 0 0 0 0 0 0 0 0 0 0 0 0 0 0 0 0 0 0 0 0\n",
            " 0 0]\n"
          ]
        }
      ]
    },
    {
      "cell_type": "code",
      "source": [
        "# 학습/테스트 데이터 분리\n",
        "from sklearn.model_selection import train_test_split\n",
        "datasets = train_test_split(iris.data, \n",
        "                            targets,\n",
        "                            test_size=0.2)\n",
        "\n",
        "train_data, test_data, train_labels, test_labels = datasets"
      ],
      "metadata": {
        "id": "WN3qyGL5njDe"
      },
      "execution_count": 11,
      "outputs": []
    },
    {
      "cell_type": "code",
      "source": [
        "# 퍼셉트론 객체 생성 및 모델 학습 \n",
        "from sklearn.linear_model import Perceptron\n",
        "p = Perceptron(random_state=42,\n",
        "               max_iter=10,\n",
        "               tol=0.001)\n",
        "p.fit(train_data, train_labels)"
      ],
      "metadata": {
        "colab": {
          "base_uri": "https://localhost:8080/"
        },
        "id": "nS6mfLPCnq8-",
        "outputId": "15d6a930-0ff2-4c34-930f-ba99955af832"
      },
      "execution_count": 12,
      "outputs": [
        {
          "output_type": "execute_result",
          "data": {
            "text/plain": [
              "Perceptron(max_iter=10, random_state=42)"
            ]
          },
          "metadata": {},
          "execution_count": 12
        }
      ]
    },
    {
      "cell_type": "markdown",
      "source": [
        "- 무작위로 선택한 X values에 대해 예측 시행"
      ],
      "metadata": {
        "id": "8zn9Aj0gnzCw"
      }
    },
    {
      "cell_type": "code",
      "source": [
        "import random\n",
        "\n",
        "# 샘플 10개 인덱스\n",
        "sample = random.sample(range(len(train_data)), 10) \n",
        "\n",
        "# 샘플에 대한 예측치\n",
        "for i in sample:\n",
        "    print(i, p.predict([train_data[i]]))"
      ],
      "metadata": {
        "colab": {
          "base_uri": "https://localhost:8080/"
        },
        "id": "w8nUBlVBnvD2",
        "outputId": "d37559f1-7e1e-4a6c-ff5b-f715dbd567e3"
      },
      "execution_count": 13,
      "outputs": [
        {
          "output_type": "stream",
          "name": "stdout",
          "text": [
            "38 [0]\n",
            "65 [0]\n",
            "8 [0]\n",
            "71 [0]\n",
            "115 [1]\n",
            "47 [0]\n",
            "69 [1]\n",
            "98 [1]\n",
            "56 [1]\n",
            "42 [0]\n"
          ]
        }
      ]
    },
    {
      "cell_type": "code",
      "source": [
        "# 학습데이터 모델 평가\n",
        "from sklearn.metrics import classification_report\n",
        "\n",
        "print(classification_report(p.predict(train_data), train_labels))"
      ],
      "metadata": {
        "colab": {
          "base_uri": "https://localhost:8080/"
        },
        "id": "8skRJyYkmdeb",
        "outputId": "6992deef-fa7c-48ae-d7ba-421d920b5d3f"
      },
      "execution_count": 14,
      "outputs": [
        {
          "output_type": "stream",
          "name": "stdout",
          "text": [
            "              precision    recall  f1-score   support\n",
            "\n",
            "           0       1.00      1.00      1.00        77\n",
            "           1       1.00      1.00      1.00        43\n",
            "\n",
            "    accuracy                           1.00       120\n",
            "   macro avg       1.00      1.00      1.00       120\n",
            "weighted avg       1.00      1.00      1.00       120\n",
            "\n"
          ]
        }
      ]
    },
    {
      "cell_type": "code",
      "source": [
        "# 테스트 데이터 모델 평가\n",
        "from sklearn.metrics import classification_report\n",
        "\n",
        "print(classification_report(p.predict(test_data), test_labels))"
      ],
      "metadata": {
        "colab": {
          "base_uri": "https://localhost:8080/"
        },
        "id": "oXm4VHdnoYtD",
        "outputId": "b8438f01-1aed-458e-cb9b-440e33ad3853"
      },
      "execution_count": 15,
      "outputs": [
        {
          "output_type": "stream",
          "name": "stdout",
          "text": [
            "              precision    recall  f1-score   support\n",
            "\n",
            "           0       1.00      1.00      1.00        23\n",
            "           1       1.00      1.00      1.00         7\n",
            "\n",
            "    accuracy                           1.00        30\n",
            "   macro avg       1.00      1.00      1.00        30\n",
            "weighted avg       1.00      1.00      1.00        30\n",
            "\n"
          ]
        }
      ]
    }
  ]
}
